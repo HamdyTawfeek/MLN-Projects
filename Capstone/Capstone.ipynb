{
 "cells": [
  {
   "cell_type": "code",
   "execution_count": 1,
   "metadata": {
    "colab": {
     "base_uri": "https://localhost:8080/",
     "height": 34
    },
    "colab_type": "code",
    "id": "gsqkl58ryQD7",
    "outputId": "be17040c-401a-45cf-da4c-6c847e708513"
   },
   "outputs": [
    {
     "name": "stdout",
     "output_type": "stream",
     "text": [
      "Drive already mounted at /content/drive; to attempt to forcibly remount, call drive.mount(\"/content/drive\", force_remount=True).\n"
     ]
    }
   ],
   "source": [
    "from google.colab import drive\n",
    "drive.mount('/content/drive')"
   ]
  },
  {
   "cell_type": "code",
   "execution_count": 2,
   "metadata": {
    "colab": {
     "base_uri": "https://localhost:8080/",
     "height": 34
    },
    "colab_type": "code",
    "id": "ULR43iYNyr9A",
    "outputId": "f8416604-967e-4fe5-96ee-57a1f59d35b2"
   },
   "outputs": [
    {
     "name": "stderr",
     "output_type": "stream",
     "text": [
      "Using TensorFlow backend.\n"
     ]
    }
   ],
   "source": [
    "import numpy as np\n",
    "import matplotlib.pyplot as plt\n",
    "import pandas as pd\n",
    "from sklearn.preprocessing import LabelBinarizer\n",
    "from sklearn.model_selection import train_test_split\n",
    "from sklearn.linear_model import LogisticRegression\n",
    "import xgboost as xgb\n",
    "import keras\n",
    "from keras.models import Sequential\n",
    "from keras.layers.core import Dense, Dropout, Activation\n",
    "from keras.optimizers import Adadelta\n",
    "from keras.layers.normalization import BatchNormalization\n",
    "from sklearn.preprocessing import StandardScaler\n",
    "import seaborn as sns\n",
    "%matplotlib inline\n",
    "\n"
   ]
  },
  {
   "cell_type": "code",
   "execution_count": 0,
   "metadata": {
    "colab": {},
    "colab_type": "code",
    "id": "g_XqM8j_yQEC"
   },
   "outputs": [],
   "source": [
    "def set_pandas_options():\n",
    "    import warnings\n",
    "    pd.options.display.max_columns = 128\n",
    "    pd.options.display.max_rows = 128\n",
    "    pd.options.display.float_format = '{:.9f}'.format\n",
    "    pd.options.mode.chained_assignment = None\n",
    "    warnings.simplefilter(action='ignore', category=FutureWarning)\n",
    "set_pandas_options()"
   ]
  },
  {
   "cell_type": "code",
   "execution_count": 4,
   "metadata": {
    "colab": {
     "base_uri": "https://localhost:8080/",
     "height": 34
    },
    "colab_type": "code",
    "id": "gmi-aTvm0frk",
    "outputId": "f5bba0d2-469b-446f-8331-b2ec384ef1de"
   },
   "outputs": [
    {
     "name": "stdout",
     "output_type": "stream",
     "text": [
      "/content/drive/My Drive/Machine Learning\n"
     ]
    }
   ],
   "source": [
    "\n",
    "%cd /content/drive/My Drive/Machine Learning"
   ]
  },
  {
   "cell_type": "markdown",
   "metadata": {
    "colab_type": "text",
    "id": "5brPMiNcyQEE"
   },
   "source": [
    "## 1. Data Understanding"
   ]
  },
  {
   "cell_type": "code",
   "execution_count": 0,
   "metadata": {
    "colab": {},
    "colab_type": "code",
    "id": "i1IKlKPvyQEF"
   },
   "outputs": [],
   "source": [
    "train = pd.read_csv('data/train.csv')\n",
    "test = pd.read_csv('data/test.csv')"
   ]
  },
  {
   "cell_type": "code",
   "execution_count": 9,
   "metadata": {
    "colab": {
     "base_uri": "https://localhost:8080/",
     "height": 51
    },
    "colab_type": "code",
    "id": "EW2p53yxyQEG",
    "outputId": "1bb4d0ac-1b1b-4124-c01a-e5053786178e"
   },
   "outputs": [
    {
     "name": "stdout",
     "output_type": "stream",
     "text": [
      "(59381, 128)\n",
      "(19765, 127)\n"
     ]
    }
   ],
   "source": [
    "print(train.shape)\n",
    "print(test.shape)"
   ]
  },
  {
   "cell_type": "code",
   "execution_count": 10,
   "metadata": {
    "colab": {
     "base_uri": "https://localhost:8080/",
     "height": 170
    },
    "colab_type": "code",
    "id": "FKw-DOIsI2fa",
    "outputId": "dd36eff1-44bc-4243-b27f-fc52ff1c6039"
   },
   "outputs": [
    {
     "data": {
      "text/plain": [
       "Index(['Id', 'Product_Info_1', 'Product_Info_2', 'Product_Info_3',\n",
       "       'Product_Info_4', 'Product_Info_5', 'Product_Info_6', 'Product_Info_7',\n",
       "       'Ins_Age', 'Ht',\n",
       "       ...\n",
       "       'Medical_Keyword_40', 'Medical_Keyword_41', 'Medical_Keyword_42',\n",
       "       'Medical_Keyword_43', 'Medical_Keyword_44', 'Medical_Keyword_45',\n",
       "       'Medical_Keyword_46', 'Medical_Keyword_47', 'Medical_Keyword_48',\n",
       "       'Response'],\n",
       "      dtype='object', length=128)"
      ]
     },
     "execution_count": 10,
     "metadata": {
      "tags": []
     },
     "output_type": "execute_result"
    }
   ],
   "source": [
    "train.columns"
   ]
  },
  {
   "cell_type": "code",
   "execution_count": 11,
   "metadata": {
    "colab": {
     "base_uri": "https://localhost:8080/",
     "height": 2210
    },
    "colab_type": "code",
    "id": "yLZvHsGK28_K",
    "outputId": "5f6115d4-b85b-4f2d-bcef-eec62d9ca302"
   },
   "outputs": [
    {
     "data": {
      "text/plain": [
       "Id                         0\n",
       "Product_Info_1             0\n",
       "Product_Info_2             0\n",
       "Product_Info_3             0\n",
       "Product_Info_4             0\n",
       "Product_Info_5             0\n",
       "Product_Info_6             0\n",
       "Product_Info_7             0\n",
       "Ins_Age                    0\n",
       "Ht                         0\n",
       "Wt                         0\n",
       "BMI                        0\n",
       "Employment_Info_1         19\n",
       "Employment_Info_2          0\n",
       "Employment_Info_3          0\n",
       "Employment_Info_4       6779\n",
       "Employment_Info_5          0\n",
       "Employment_Info_6      10854\n",
       "InsuredInfo_1              0\n",
       "InsuredInfo_2              0\n",
       "InsuredInfo_3              0\n",
       "InsuredInfo_4              0\n",
       "InsuredInfo_5              0\n",
       "InsuredInfo_6              0\n",
       "InsuredInfo_7              0\n",
       "Insurance_History_1        0\n",
       "Insurance_History_2        0\n",
       "Insurance_History_3        0\n",
       "Insurance_History_4        0\n",
       "Insurance_History_5    25396\n",
       "Insurance_History_7        0\n",
       "Insurance_History_8        0\n",
       "Insurance_History_9        0\n",
       "Family_Hist_1              0\n",
       "Family_Hist_2          28656\n",
       "Family_Hist_3          34241\n",
       "Family_Hist_4          19184\n",
       "Family_Hist_5          41811\n",
       "Medical_History_1       8889\n",
       "Medical_History_2          0\n",
       "Medical_History_3          0\n",
       "Medical_History_4          0\n",
       "Medical_History_5          0\n",
       "Medical_History_6          0\n",
       "Medical_History_7          0\n",
       "Medical_History_8          0\n",
       "Medical_History_9          0\n",
       "Medical_History_10     58824\n",
       "Medical_History_11         0\n",
       "Medical_History_12         0\n",
       "Medical_History_13         0\n",
       "Medical_History_14         0\n",
       "Medical_History_15     44596\n",
       "Medical_History_16         0\n",
       "Medical_History_17         0\n",
       "Medical_History_18         0\n",
       "Medical_History_19         0\n",
       "Medical_History_20         0\n",
       "Medical_History_21         0\n",
       "Medical_History_22         0\n",
       "Medical_History_23         0\n",
       "Medical_History_24     55580\n",
       "Medical_History_25         0\n",
       "Medical_History_26         0\n",
       "Medical_History_27         0\n",
       "Medical_History_28         0\n",
       "Medical_History_29         0\n",
       "Medical_History_30         0\n",
       "Medical_History_31         0\n",
       "Medical_History_32     58274\n",
       "Medical_History_33         0\n",
       "Medical_History_34         0\n",
       "Medical_History_35         0\n",
       "Medical_History_36         0\n",
       "Medical_History_37         0\n",
       "Medical_History_38         0\n",
       "Medical_History_39         0\n",
       "Medical_History_40         0\n",
       "Medical_History_41         0\n",
       "Medical_Keyword_1          0\n",
       "Medical_Keyword_2          0\n",
       "Medical_Keyword_3          0\n",
       "Medical_Keyword_4          0\n",
       "Medical_Keyword_5          0\n",
       "Medical_Keyword_6          0\n",
       "Medical_Keyword_7          0\n",
       "Medical_Keyword_8          0\n",
       "Medical_Keyword_9          0\n",
       "Medical_Keyword_10         0\n",
       "Medical_Keyword_11         0\n",
       "Medical_Keyword_12         0\n",
       "Medical_Keyword_13         0\n",
       "Medical_Keyword_14         0\n",
       "Medical_Keyword_15         0\n",
       "Medical_Keyword_16         0\n",
       "Medical_Keyword_17         0\n",
       "Medical_Keyword_18         0\n",
       "Medical_Keyword_19         0\n",
       "Medical_Keyword_20         0\n",
       "Medical_Keyword_21         0\n",
       "Medical_Keyword_22         0\n",
       "Medical_Keyword_23         0\n",
       "Medical_Keyword_24         0\n",
       "Medical_Keyword_25         0\n",
       "Medical_Keyword_26         0\n",
       "Medical_Keyword_27         0\n",
       "Medical_Keyword_28         0\n",
       "Medical_Keyword_29         0\n",
       "Medical_Keyword_30         0\n",
       "Medical_Keyword_31         0\n",
       "Medical_Keyword_32         0\n",
       "Medical_Keyword_33         0\n",
       "Medical_Keyword_34         0\n",
       "Medical_Keyword_35         0\n",
       "Medical_Keyword_36         0\n",
       "Medical_Keyword_37         0\n",
       "Medical_Keyword_38         0\n",
       "Medical_Keyword_39         0\n",
       "Medical_Keyword_40         0\n",
       "Medical_Keyword_41         0\n",
       "Medical_Keyword_42         0\n",
       "Medical_Keyword_43         0\n",
       "Medical_Keyword_44         0\n",
       "Medical_Keyword_45         0\n",
       "Medical_Keyword_46         0\n",
       "Medical_Keyword_47         0\n",
       "Medical_Keyword_48         0\n",
       "Response                   0\n",
       "dtype: int64"
      ]
     },
     "execution_count": 11,
     "metadata": {
      "tags": []
     },
     "output_type": "execute_result"
    }
   ],
   "source": [
    "train.isna().sum()"
   ]
  },
  {
   "cell_type": "code",
   "execution_count": 12,
   "metadata": {
    "colab": {
     "base_uri": "https://localhost:8080/",
     "height": 272
    },
    "colab_type": "code",
    "id": "spXg7E4VCX58",
    "outputId": "1a73057d-f5cb-4bf7-a4b1-5ee134240f61"
   },
   "outputs": [
    {
     "name": "stdout",
     "output_type": "stream",
     "text": [
      "proportion of nan values in train set : \n"
     ]
    },
    {
     "data": {
      "text/plain": [
       "Employment_Info_1     0.000319968\n",
       "Employment_Info_4     0.114161095\n",
       "Employment_Info_6     0.182785740\n",
       "Insurance_History_5   0.427678887\n",
       "Family_Hist_2         0.482578603\n",
       "Family_Hist_3         0.576632256\n",
       "Family_Hist_4         0.323066301\n",
       "Family_Hist_5         0.704114111\n",
       "Medical_History_1     0.149694347\n",
       "Medical_History_10    0.990619895\n",
       "Medical_History_15    0.751014634\n",
       "Medical_History_24    0.935989626\n",
       "Medical_History_32    0.981357673\n",
       "dtype: float64"
      ]
     },
     "execution_count": 12,
     "metadata": {
      "tags": []
     },
     "output_type": "execute_result"
    }
   ],
   "source": [
    "print('proportion of nan values in train set : ')\n",
    "prop = train.isnull().sum(axis = 0)/len(train)\n",
    "prop[prop != 0.0]"
   ]
  },
  {
   "cell_type": "code",
   "execution_count": 13,
   "metadata": {
    "colab": {
     "base_uri": "https://localhost:8080/",
     "height": 170
    },
    "colab_type": "code",
    "id": "63JyseWOsRf7",
    "outputId": "b398fc3a-3634-4621-dd5c-e4a5e902d7fe"
   },
   "outputs": [
    {
     "data": {
      "text/plain": [
       "8    19489\n",
       "6    11233\n",
       "7     8027\n",
       "2     6552\n",
       "1     6207\n",
       "5     5432\n",
       "4     1428\n",
       "3     1013\n",
       "Name: Response, dtype: int64"
      ]
     },
     "execution_count": 13,
     "metadata": {
      "tags": []
     },
     "output_type": "execute_result"
    }
   ],
   "source": [
    "train['Response'].value_counts()"
   ]
  },
  {
   "cell_type": "code",
   "execution_count": 14,
   "metadata": {
    "colab": {
     "base_uri": "https://localhost:8080/",
     "height": 462
    },
    "colab_type": "code",
    "id": "l23xLVjC1axV",
    "outputId": "bc959690-097f-40dc-b919-c4f886b161c8"
   },
   "outputs": [
    {
     "data": {
      "image/png": "[encoded data removed]",
      "text/plain": [
       "<Figure size 936x504 with 1 Axes>"
      ]
     },
     "metadata": {
      "tags": []
     },
     "output_type": "display_data"
    }
   ],
   "source": [
    "# response distribution\n",
    "fig, ax = plt.subplots(1,1,figsize=(13,7))\n",
    "sns.countplot(x='Response',data=train, ax=ax)\n",
    "plt.xlabel('Response',fontsize=13)\n",
    "plt.ylabel('Count',fontsize=13)\n",
    "plt.title('Distribution of the Response variable (final decision associated with an application)',fontsize=16);"
   ]
  },
  {
   "cell_type": "markdown",
   "metadata": {
    "colab_type": "text",
    "id": "Xb4ZGenB7Vfj"
   },
   "source": [
    "**Age, Height, Weight, BMI VS Response**"
   ]
  },
  {
   "cell_type": "code",
   "execution_count": 15,
   "metadata": {
    "colab": {
     "base_uri": "https://localhost:8080/",
     "height": 271
    },
    "colab_type": "code",
    "id": "QVSYDJFo6AR2",
    "outputId": "9476ebc3-a5b7-4374-acc9-7bb22e87e2bd"
   },
   "outputs": [
    {
     "data": {
      "image/png": "[encoded data removed]",
      "text/plain": [
       "<Figure size 432x288 with 2 Axes>"
      ]
     },
     "metadata": {
      "tags": []
     },
     "output_type": "display_data"
    }
   ],
   "source": [
    "cols = ['Response', 'Ins_Age', 'Ht', 'Wt', 'BMI']\n",
    "correlations = train[cols].corr()\n",
    "# plot correlation matrix\n",
    "fig = plt.figure()\n",
    "ax = fig.add_subplot(111)\n",
    "cax = ax.matshow(correlations, vmin=-1, vmax=1)\n",
    "fig.colorbar(cax)\n",
    "ticks = np.arange(0,5,1)\n",
    "ax.set_xticks(ticks)\n",
    "ax.set_yticks(ticks)\n",
    "ax.set_xticklabels(cols)\n",
    "ax.set_yticklabels(cols)\n",
    "plt.show()"
   ]
  },
  {
   "cell_type": "code",
   "execution_count": 0,
   "metadata": {
    "colab": {},
    "colab_type": "code",
    "id": "LWUtxp4c4Wfb"
   },
   "outputs": [],
   "source": [
    "## old graphs\n",
    "# facet = sns.FacetGrid(train, hue=\"Response\",aspect=4, hue_order=[1,2,3,4,5,6,7,8], palette=\"RdBu\")\n",
    "# facet.map(sns.kdeplot,'Ins_Age')\n",
    "# facet.set(xlim=(0, train['Ins_Age'].max()))\n",
    "# facet.add_legend();\n",
    "# plt.xlabel('Age of applicant',fontsize=13)\n",
    "# plt.title('Distribution of responses across normalized ages')\n",
    "\n",
    "# facet = sns.FacetGrid(train, hue=\"Response\",aspect=4, hue_order=[1,2,3,4,5,6,7,8], palette=\"RdBu\")\n",
    "# facet.map(sns.kdeplot,'Ht')\n",
    "# facet.set(xlim=(0.4, train['Ht'].max()))\n",
    "# facet.add_legend()\n",
    "# plt.xlabel('Normalized Height of applicant',fontsize=13)\n",
    "# plt.title('Distribution of responses across normalized Heights')\n",
    "\n",
    "# facet = sns.FacetGrid(train, hue=\"Response\",aspect=4, hue_order=[1,2,3,4,5,6,7,8], palette=\"RdBu\")\n",
    "# facet.map(sns.kdeplot,'Wt')\n",
    "# facet.set(xlim=(0, train['Wt'].max()))\n",
    "# facet.add_legend();\n",
    "# plt.xlabel('Normalized Weight of applicant',fontsize=13)\n",
    "# plt.title('Distribution of responses across normalized weights')\n",
    "\n",
    "# facet = sns.FacetGrid(train, hue=\"Response\",aspect=4, hue_order=[1,2,3,4,5,6,7,8], palette=\"RdBu\")\n",
    "# facet.map(sns.kdeplot,'BMI')\n",
    "# facet.set(xlim=(0, 1.0))\n",
    "# facet.add_legend()\n",
    "# plt.xlabel('Normalized BMI of applicant',fontsize=13)\n",
    "# plt.title('Distribution of responses across normalized BMI')\n",
    "\n",
    "# fig, axes  = plt.subplots(nrows=2, ncols=2,figsize=(15,10))\n",
    "# sns.boxplot(x=\"Response\", y=\"Ins_Age\", data=train, order=[1,2,3,4,5,6,7,8], palette=\"RdBu\",ax=axes[0,0])\n",
    "# sns.boxplot(x=\"Response\", y=\"Ht\", data=train, order=[1,2,3,4,5,6,7,8], palette=\"RdBu\",ax=axes[0,1])\n",
    "# sns.boxplot(x=\"Response\", y=\"Wt\", data=train, order=[1,2,3,4,5,6,7,8], palette=\"RdBu\",ax=axes[1,0])\n",
    "# sns.boxplot(x=\"Response\", y=\"BMI\", data=train, order=[1,2,3,4,5,6,7,8], palette=\"RdBu\",ax=axes[1,1])"
   ]
  },
  {
   "cell_type": "markdown",
   "metadata": {
    "colab_type": "text",
    "id": "PGxGkyDhyQEP"
   },
   "source": [
    "## 2. Data Preprocessing"
   ]
  },
  {
   "cell_type": "code",
   "execution_count": 0,
   "metadata": {
    "colab": {},
    "colab_type": "code",
    "id": "ZLSpbkeFrmH0"
   },
   "outputs": [],
   "source": [
    "class StandardScaler_df:\n",
    "    def __init__(self):\n",
    "        self.StandardScaler = StandardScaler()\n",
    "    def fit(self, df):\n",
    "        self.StandardScaler.fit(df)\n",
    "    def transform(self, df):\n",
    "        df = pd.DataFrame(self.StandardScaler.transform(df), columns=df.columns)\n",
    "        return df\n",
    "    def fit_transform(self, df):\n",
    "        df = pd.DataFrame(self.StandardScaler.fit_transform(df), columns=df.columns)\n",
    "        return df"
   ]
  },
  {
   "cell_type": "code",
   "execution_count": 0,
   "metadata": {
    "colab": {},
    "colab_type": "code",
    "id": "z_xKSjWvjJCU"
   },
   "outputs": [],
   "source": [
    "def make_dataset():\n",
    "    train = pd.read_csv('data/train.csv')\n",
    "    test = pd.read_csv('data/test.csv')\n",
    "    labels = train['Response']\n",
    "    train.drop(labels='Response',axis = 1, inplace=True)\n",
    "    cols_to_drop = ['Id', 'Medical_History_10','Medical_History_15','Medical_History_24','Medical_History_32']\n",
    "  \n",
    "    train.drop(cols_to_drop, axis = 1, inplace = True)\n",
    "    test.drop(cols_to_drop, axis = 1, inplace = True)\n",
    "  \n",
    "    df = pd.concat([train,test])\n",
    "  \n",
    "    cat_cols = [\"Product_Info_1\", \"Product_Info_2\", \"Product_Info_3\", \"Product_Info_5\", \"Product_Info_6\", \n",
    "               \"Product_Info_7\", \"Employment_Info_2\", \"Employment_Info_3\", \"Employment_Info_5\", \"InsuredInfo_1\",\n",
    "               \"InsuredInfo_2\", \"InsuredInfo_3\", \"InsuredInfo_4\", \"InsuredInfo_5\", \"InsuredInfo_6\", \"InsuredInfo_7\", \n",
    "              \"Insurance_History_1\", \"Insurance_History_2\", \"Insurance_History_3\", \"Insurance_History_4\", \"Insurance_History_7\", \n",
    "              \"Insurance_History_8\", \"Insurance_History_9\", \"Family_Hist_1\", \"Medical_History_2\", \"Medical_History_3\", \"Medical_History_4\", \n",
    "              \"Medical_History_5\", \"Medical_History_6\", \"Medical_History_7\", \"Medical_History_8\", \"Medical_History_9\",\n",
    "              \"Medical_History_11\", \"Medical_History_12\", \"Medical_History_13\", \"Medical_History_14\", \"Medical_History_16\", \"Medical_History_17\",\n",
    "              \"Medical_History_18\", \"Medical_History_19\", \"Medical_History_20\", \"Medical_History_21\", \"Medical_History_22\", \"Medical_History_23\",\n",
    "              \"Medical_History_25\", \"Medical_History_26\", \"Medical_History_27\", \"Medical_History_28\", \"Medical_History_29\", \"Medical_History_30\", \n",
    "              \"Medical_History_31\", \"Medical_History_33\", \"Medical_History_34\", \"Medical_History_35\", \"Medical_History_36\", \n",
    "               \"Medical_History_37\", \"Medical_History_38\", \"Medical_History_39\", \"Medical_History_40\", \"Medical_History_41\"]\n",
    "  \n",
    "  \n",
    "    num_cols = ['Product_Info_4', 'Ins_Age', 'Ht', 'Wt', 'BMI', 'Employment_Info_1', 'Employment_Info_4', 'Employment_Info_6',\n",
    "              'Insurance_History_5', 'Family_Hist_2', 'Family_Hist_3', 'Family_Hist_4', 'Family_Hist_5','Medical_History_1']\n",
    "\n",
    "  # fill Nan values with mode for categorical variables, median for continuous variables\n",
    "    df = df.apply(lambda col: col.fillna(value = col.mode()[0] ) if col.name in cat_cols else col.fillna(value = col.median() ))\n",
    "  \n",
    "  # one-hot encoding categorical variables \n",
    "    dummies = pd.get_dummies(df, columns= cat_cols)\n",
    "  \n",
    "  # split data to train and test\n",
    "    train = dummies[:train.shape[0]]\n",
    "    test = dummies[train.shape[0]:]\n",
    "  \n",
    "  # scaling \n",
    "    scaler = StandardScaler_df()\n",
    "    train[num_cols] = scaler.fit_transform(train[num_cols])\n",
    "    test[num_cols] = scaler.transform(test[num_cols])\n",
    "  \n",
    "    return labels, train, test"
   ]
  },
  {
   "cell_type": "code",
   "execution_count": 0,
   "metadata": {
    "colab": {},
    "colab_type": "code",
    "id": "W9hELGBcjaG4"
   },
   "outputs": [],
   "source": [
    "labels, train, test = make_dataset()"
   ]
  },
  {
   "cell_type": "code",
   "execution_count": 20,
   "metadata": {
    "colab": {
     "base_uri": "https://localhost:8080/",
     "height": 68
    },
    "colab_type": "code",
    "id": "LsiO1Fa8jdmj",
    "outputId": "9f7578cc-3a41-476f-fd87-73305a9a634e"
   },
   "outputs": [
    {
     "name": "stdout",
     "output_type": "stream",
     "text": [
      "(59381,)\n",
      "(59381, 948)\n",
      "(19765, 948)\n"
     ]
    }
   ],
   "source": [
    "print(labels.shape)\n",
    "print(train.shape)\n",
    "print(test.shape)"
   ]
  },
  {
   "cell_type": "markdown",
   "metadata": {
    "colab_type": "text",
    "id": "AsSV03b3yQEh"
   },
   "source": [
    "## 3. Models Building and evaluation"
   ]
  },
  {
   "cell_type": "markdown",
   "metadata": {
    "colab_type": "text",
    "id": "ntYbFbKkyQEi"
   },
   "source": [
    "*   <font color='red'>**Logistic Regression**</font> "
   ]
  },
  {
   "cell_type": "code",
   "execution_count": 34,
   "metadata": {
    "colab": {
     "base_uri": "https://localhost:8080/",
     "height": 85
    },
    "colab_type": "code",
    "id": "SnmaRMEMyQEj",
    "outputId": "5dfc5302-4bc5-40f4-bccf-4d680977cad1"
   },
   "outputs": [
    {
     "data": {
      "text/plain": [
       "LogisticRegression(C=1.0, class_weight=None, dual=False, fit_intercept=True,\n",
       "          intercept_scaling=1, max_iter=100, multi_class='warn',\n",
       "          n_jobs=None, penalty='l2', random_state=None, solver='warn',\n",
       "          tol=0.0001, verbose=0, warm_start=False)"
      ]
     },
     "execution_count": 34,
     "metadata": {
      "tags": []
     },
     "output_type": "execute_result"
    }
   ],
   "source": [
    "# train logistic regression model\n",
    "model_lr = LogisticRegression()\n",
    "model_lr.fit(train, labels)"
   ]
  },
  {
   "cell_type": "code",
   "execution_count": 0,
   "metadata": {
    "colab": {},
    "colab_type": "code",
    "id": "qQoPBUvxyQEx"
   },
   "outputs": [],
   "source": [
    "# Making predictions\n",
    "test_preds = model_lr.predict(test)"
   ]
  },
  {
   "cell_type": "code",
   "execution_count": 0,
   "metadata": {
    "colab": {},
    "colab_type": "code",
    "id": "hdU9V_SzyQE1"
   },
   "outputs": [],
   "source": [
    "# Make a submission\n",
    "submission = pd.read_csv('data/sample_submission.csv')\n",
    "submission[\"Response\"] = test_preds\n",
    "submission.to_csv('data/lr_submission.csv', index=False)"
   ]
  },
  {
   "cell_type": "markdown",
   "metadata": {
    "colab_type": "text",
    "id": "x2hg7QymyQE4"
   },
   "source": [
    "**The logistic regression model scored 0.48729 on kaggle.**\n",
    "\n"
   ]
  },
  {
   "cell_type": "markdown",
   "metadata": {
    "colab_type": "text",
    "id": "aWVHgl2u1EaJ"
   },
   "source": [
    "\n",
    "\n",
    "---\n",
    "\n",
    "\n",
    "\n"
   ]
  },
  {
   "cell_type": "markdown",
   "metadata": {
    "colab_type": "text",
    "id": "uLdDoazhyQE5"
   },
   "source": [
    "* <font color='red'>**XGBoost** </font> "
   ]
  },
  {
   "cell_type": "code",
   "execution_count": 0,
   "metadata": {
    "colab": {},
    "colab_type": "code",
    "id": "Di1pwc0wefpM"
   },
   "outputs": [],
   "source": [
    "import xgboost as xgb\n"
   ]
  },
  {
   "cell_type": "code",
   "execution_count": 0,
   "metadata": {
    "colab": {},
    "colab_type": "code",
    "id": "9lUYC0tAgMxj"
   },
   "outputs": [],
   "source": [
    "labels, train, test = make_dataset()"
   ]
  },
  {
   "cell_type": "code",
   "execution_count": 0,
   "metadata": {
    "colab": {},
    "colab_type": "code",
    "id": "qaH7ia6ff7Li"
   },
   "outputs": [],
   "source": [
    "dtrain = xgb.DMatrix(train.values, labels.values)"
   ]
  },
  {
   "cell_type": "code",
   "execution_count": 0,
   "metadata": {
    "colab": {},
    "colab_type": "code",
    "id": "mILd7cVteftX"
   },
   "outputs": [],
   "source": [
    "params = {\n",
    "    'max_depth':6,\n",
    "    'min_child_weight': 1,\n",
    "    'eta':.3,\n",
    "    'subsample': 1,\n",
    "    'colsample_bytree': 1,\n",
    "    'objective':'reg:linear',\n",
    "    'eval_metric':\"mae\"\n",
    "}"
   ]
  },
  {
   "cell_type": "code",
   "execution_count": 0,
   "metadata": {
    "colab": {},
    "colab_type": "code",
    "id": "FlZFaw0SfcBp"
   },
   "outputs": [],
   "source": [
    "num_boost_round = 50"
   ]
  },
  {
   "cell_type": "code",
   "execution_count": 0,
   "metadata": {
    "colab": {},
    "colab_type": "code",
    "id": "GkIRw6kbjLHU"
   },
   "outputs": [],
   "source": [
    "#Parameters max_depth and min_child_weight\n",
    "\n",
    "gridsearch_params = [\n",
    "    (max_depth, min_child_weight)\n",
    "    for max_depth in range(5,7)\n",
    "    for min_child_weight in range(2,4)\n",
    "]"
   ]
  },
  {
   "cell_type": "code",
   "execution_count": 14,
   "metadata": {
    "colab": {
     "base_uri": "https://localhost:8080/",
     "height": 170
    },
    "colab_type": "code",
    "id": "Pu_jO9IdjLMt",
    "outputId": "91697e7f-beda-4d4e-c2ce-5954407bc9f8"
   },
   "outputs": [
    {
     "name": "stdout",
     "output_type": "stream",
     "text": [
      "CV with max_depth=5, min_child_weight=2\n",
      "\tMAE 1.4384842 for 49 rounds\n",
      "CV with max_depth=5, min_child_weight=3\n",
      "\tMAE 1.4378038 for 49 rounds\n",
      "CV with max_depth=6, min_child_weight=2\n",
      "\tMAE 1.4332487999999999 for 49 rounds\n",
      "CV with max_depth=6, min_child_weight=3\n",
      "\tMAE 1.4343024 for 49 rounds\n",
      "Best params: 6, 2, MAE: 1.4332487999999999\n"
     ]
    }
   ],
   "source": [
    "# Define initial best params and MAE\n",
    "min_mae = float(\"Inf\")\n",
    "best_params = None\n",
    "for max_depth, min_child_weight in gridsearch_params:\n",
    "    print(\"CV with max_depth={}, min_child_weight={}\".format(\n",
    "                             max_depth,\n",
    "                             min_child_weight))\n",
    "    # Update our parameters\n",
    "    params['max_depth'] = max_depth\n",
    "    params['min_child_weight'] = min_child_weight\n",
    "    # Run CV\n",
    "    cv_results = xgb.cv(\n",
    "        params,\n",
    "        dtrain,\n",
    "        num_boost_round=num_boost_round,\n",
    "        seed=42,\n",
    "        nfold=5,\n",
    "        metrics={'mae'},\n",
    "        early_stopping_rounds=10\n",
    "    )\n",
    "    # Update best MAE\n",
    "    mean_mae = cv_results['test-mae-mean'].min()\n",
    "    boost_rounds = cv_results['test-mae-mean'].argmin()\n",
    "    print(\"\\tMAE {} for {} rounds\".format(mean_mae, boost_rounds))\n",
    "    if mean_mae < min_mae:\n",
    "        min_mae = mean_mae\n",
    "        best_params = (max_depth,min_child_weight)\n",
    "print(\"Best params: {}, {}, MAE: {}\".format(best_params[0], best_params[1], min_mae))"
   ]
  },
  {
   "cell_type": "code",
   "execution_count": 0,
   "metadata": {
    "colab": {},
    "colab_type": "code",
    "id": "qAGtcfom7Ltp"
   },
   "outputs": [],
   "source": [
    "# update params\n",
    "\n",
    "params['max_depth'] = 6\n",
    "params['min_child_weight'] = 2"
   ]
  },
  {
   "cell_type": "code",
   "execution_count": 0,
   "metadata": {
    "colab": {},
    "colab_type": "code",
    "id": "lhnzxyp9jLXO"
   },
   "outputs": [],
   "source": [
    "# Parameters subsample and colsample_bytree\n",
    "\n",
    "gridsearch_params = [\n",
    "    (subsample, colsample)\n",
    "    for subsample in [i/10. for i in range(4,6)]\n",
    "    for colsample in [i/10. for i in range(4,6)]\n",
    "]"
   ]
  },
  {
   "cell_type": "code",
   "execution_count": 17,
   "metadata": {
    "colab": {
     "base_uri": "https://localhost:8080/",
     "height": 170
    },
    "colab_type": "code",
    "id": "AXToGl-AjLcG",
    "outputId": "8fe3a48f-87a1-4093-ef7c-b6ddd3edae93"
   },
   "outputs": [
    {
     "name": "stdout",
     "output_type": "stream",
     "text": [
      "CV with subsample=0.5, colsample=0.5\n",
      "\tMAE 1.4447132000000003 for 44 rounds\n",
      "CV with subsample=0.5, colsample=0.4\n",
      "\tMAE 1.4478038 for 45 rounds\n",
      "CV with subsample=0.4, colsample=0.5\n",
      "\tMAE 1.448769 for 46 rounds\n",
      "CV with subsample=0.4, colsample=0.4\n",
      "\tMAE 1.4550662 for 49 rounds\n",
      "Best params: 0.5, 0.5, MAE: 1.4447132000000003\n"
     ]
    }
   ],
   "source": [
    "min_mae = float(\"Inf\")\n",
    "best_params = None\n",
    "# We start by the largest values and go down to the smallest\n",
    "for subsample, colsample in reversed(gridsearch_params):\n",
    "    print(\"CV with subsample={}, colsample={}\".format(\n",
    "                             subsample,\n",
    "                             colsample))\n",
    "    # We update our parameters\n",
    "    params['subsample'] = subsample\n",
    "    params['colsample_bytree'] = colsample\n",
    "    # Run CV\n",
    "    cv_results = xgb.cv(\n",
    "        params,\n",
    "        dtrain,\n",
    "        num_boost_round=num_boost_round,\n",
    "        seed=42,\n",
    "        nfold=5,\n",
    "        metrics={'mae'},\n",
    "        early_stopping_rounds=10\n",
    "    )\n",
    "    # Update best score\n",
    "    mean_mae = cv_results['test-mae-mean'].min()\n",
    "    boost_rounds = cv_results['test-mae-mean'].argmin()\n",
    "    print(\"\\tMAE {} for {} rounds\".format(mean_mae, boost_rounds))\n",
    "    if mean_mae < min_mae:\n",
    "        min_mae = mean_mae\n",
    "        best_params = (subsample,colsample)\n",
    "print(\"Best params: {}, {}, MAE: {}\".format(best_params[0], best_params[1], min_mae))"
   ]
  },
  {
   "cell_type": "code",
   "execution_count": 0,
   "metadata": {
    "colab": {},
    "colab_type": "code",
    "id": "PYZRxGCWjLhs"
   },
   "outputs": [],
   "source": [
    "# update params\n",
    "\n",
    "params['subsample'] = 0.5\n",
    "params['colsample_bytree'] = 0.5"
   ]
  },
  {
   "cell_type": "code",
   "execution_count": 0,
   "metadata": {
    "colab": {},
    "colab_type": "code",
    "id": "lUJdkrcvjLtu"
   },
   "outputs": [],
   "source": [
    "# train xgb model\n",
    "train_xgb = xgb.DMatrix(train.values, labels.values)\n",
    "model_xgb = xgb.train(params, train_xgb,num_boost_round = 100)"
   ]
  },
  {
   "cell_type": "code",
   "execution_count": 0,
   "metadata": {
    "colab": {},
    "colab_type": "code",
    "id": "WHB-p1dTfb-e"
   },
   "outputs": [],
   "source": [
    "# Making predictions\n",
    "test_xgb  = xgb.DMatrix(test.values)\n",
    "test_preds = model_xgb.predict(test_xgb,ntree_limit=model_xgb.best_iteration)\n",
    "test_preds = np.round(np.clip(test_preds,1,8)).astype(int)"
   ]
  },
  {
   "cell_type": "code",
   "execution_count": 0,
   "metadata": {
    "colab": {},
    "colab_type": "code",
    "id": "QC3OsSv3fb8i"
   },
   "outputs": [],
   "source": [
    "# Make a submission\n",
    "submission = pd.read_csv('data/sample_submission.csv')\n",
    "submission[\"Response\"] = test_preds\n",
    "submission.to_csv('data/xgb_submission.csv', index=False)"
   ]
  },
  {
   "cell_type": "markdown",
   "metadata": {
    "colab_type": "text",
    "id": "8JX0NoIsKxvX"
   },
   "source": [
    "**The XGBoost model scored 0.56787 on kaggle .** "
   ]
  },
  {
   "cell_type": "markdown",
   "metadata": {
    "colab_type": "text",
    "id": "qj38OqbPONzF"
   },
   "source": [
    " Note: we can reach a better result if we use a more wide range for hyperparameters and many of them but that needs time!"
   ]
  },
  {
   "cell_type": "markdown",
   "metadata": {
    "colab_type": "text",
    "id": "m58sj3y-yQFI"
   },
   "source": [
    "*  <font color='red'>**Neural Network**</font> "
   ]
  },
  {
   "cell_type": "code",
   "execution_count": 0,
   "metadata": {
    "colab": {},
    "colab_type": "code",
    "id": "aOCtq6a-HAu_"
   },
   "outputs": [],
   "source": [
    "class NN:\n",
    "    def __init__(self, inputShape, layers, dropout = [], activation = 'relu', \n",
    "                 init = 'uniform', loss = 'rmse', optimizer = 'adadelta', nb_epochs = 50, batch_size = 32, verbose = 1):\n",
    "\n",
    "        model = Sequential()\n",
    "        for i in range(len(layers)):\n",
    "            if i == 0:\n",
    "                model.add(Dense(layers[i], input_dim = inputShape, init = init))\n",
    "            else:\n",
    "                model.add(Dense(layers[i], init = init))\n",
    "            model.add(Activation(activation))\n",
    "            model.add(BatchNormalization())\n",
    "            if len(dropout) > i:\n",
    "                model.add(Dropout(dropout[i]))\n",
    "        model.add(Dense(1, init = init)) \n",
    "        model.compile(loss=loss, optimizer=optimizer)\n",
    "        \n",
    "        self.model = model\n",
    "        self.nb_epochs = nb_epochs\n",
    "        self.batch_size = batch_size\n",
    "        self.verbose = verbose\n",
    "\n",
    "    def fit(self, X, y): \n",
    "        self.model.fit(X.values, y.values, nb_epoch=self.nb_epochs, batch_size=self.batch_size, verbose = self.verbose)\n",
    "        \n",
    "    def predict(self, X, batch_size = 128, verbose = 1):\n",
    "        return self.model.predict(X.values, batch_size = batch_size, verbose = verbose)\n"
   ]
  },
  {
   "cell_type": "code",
   "execution_count": 0,
   "metadata": {
    "colab": {
     "base_uri": "https://localhost:8080/",
     "height": 3723
    },
    "colab_type": "code",
    "id": "vSxqgRndCyJD",
    "outputId": "9dde97b9-3802-49e0-da23-0fdc3b87bbe1"
   },
   "outputs": [
    {
     "name": "stdout",
     "output_type": "stream",
     "text": [
      "Input shape: 948\n",
      "Adding Layer 0: 128\n",
      "Adding relu layer\n",
      "Adding 0.5 dropout\n",
      "Adding Layer 1: 64\n",
      "Adding relu layer\n"
     ]
    },
    {
     "name": "stderr",
     "output_type": "stream",
     "text": [
      "/usr/local/lib/python3.6/dist-packages/ipykernel_launcher.py:10: UserWarning: Update your `Dense` call to the Keras 2 API: `Dense(128, input_dim=948, kernel_initializer=\"glorot_normal\")`\n",
      "  # Remove the CWD from sys.path while we load stuff.\n",
      "/usr/local/lib/python3.6/dist-packages/ipykernel_launcher.py:13: UserWarning: Update your `Dense` call to the Keras 2 API: `Dense(64, kernel_initializer=\"glorot_normal\")`\n",
      "  del sys.path[0]\n"
     ]
    },
    {
     "name": "stdout",
     "output_type": "stream",
     "text": [
      "Adding 0.5 dropout\n",
      "Adding Layer 2: 32\n",
      "Adding relu layer\n",
      "Adding 0.7 dropout\n"
     ]
    },
    {
     "name": "stderr",
     "output_type": "stream",
     "text": [
      "/usr/local/lib/python3.6/dist-packages/ipykernel_launcher.py:13: UserWarning: Update your `Dense` call to the Keras 2 API: `Dense(32, kernel_initializer=\"glorot_normal\")`\n",
      "  del sys.path[0]\n",
      "/usr/local/lib/python3.6/dist-packages/ipykernel_launcher.py:20: UserWarning: Update your `Dense` call to the Keras 2 API: `Dense(1, kernel_initializer=\"glorot_normal\")`\n",
      "/usr/local/lib/python3.6/dist-packages/ipykernel_launcher.py:29: UserWarning: The `nb_epoch` argument in `fit` has been renamed `epochs`.\n"
     ]
    },
    {
     "name": "stdout",
     "output_type": "stream",
     "text": [
      "Epoch 1/100\n",
      "59381/59381 [==============================] - 23s 393us/step - loss: 2.5981\n",
      "Epoch 2/100\n",
      "59381/59381 [==============================] - 21s 352us/step - loss: 1.8635\n",
      "Epoch 3/100\n",
      "59381/59381 [==============================] - 21s 352us/step - loss: 1.7423\n",
      "Epoch 4/100\n",
      "59381/59381 [==============================] - 21s 353us/step - loss: 1.6581\n",
      "Epoch 5/100\n",
      "59381/59381 [==============================] - 21s 351us/step - loss: 1.6049\n",
      "Epoch 6/100\n",
      "59381/59381 [==============================] - 21s 353us/step - loss: 1.5561\n",
      "Epoch 7/100\n",
      "59381/59381 [==============================] - 21s 352us/step - loss: 1.5283\n",
      "Epoch 8/100\n",
      "59381/59381 [==============================] - 21s 353us/step - loss: 1.5093\n",
      "Epoch 9/100\n",
      "59381/59381 [==============================] - 21s 353us/step - loss: 1.4896\n",
      "Epoch 10/100\n",
      "59381/59381 [==============================] - 21s 350us/step - loss: 1.4806\n",
      "Epoch 11/100\n",
      "59381/59381 [==============================] - 21s 351us/step - loss: 1.4754\n",
      "Epoch 12/100\n",
      "59381/59381 [==============================] - 21s 352us/step - loss: 1.4632\n",
      "Epoch 13/100\n",
      "59381/59381 [==============================] - 21s 353us/step - loss: 1.4587\n",
      "Epoch 14/100\n",
      "59381/59381 [==============================] - 21s 353us/step - loss: 1.4564\n",
      "Epoch 15/100\n",
      "59381/59381 [==============================] - 21s 352us/step - loss: 1.4540\n",
      "Epoch 16/100\n",
      "59381/59381 [==============================] - 21s 350us/step - loss: 1.4503\n",
      "Epoch 17/100\n",
      "59381/59381 [==============================] - 21s 357us/step - loss: 1.4444\n",
      "Epoch 18/100\n",
      "59381/59381 [==============================] - 21s 355us/step - loss: 1.4420\n",
      "Epoch 19/100\n",
      "59381/59381 [==============================] - 21s 355us/step - loss: 1.4401\n",
      "Epoch 20/100\n",
      "59381/59381 [==============================] - 21s 350us/step - loss: 1.4411\n",
      "Epoch 21/100\n",
      "59381/59381 [==============================] - 21s 352us/step - loss: 1.4390\n",
      "Epoch 22/100\n",
      "59381/59381 [==============================] - 21s 353us/step - loss: 1.4376\n",
      "Epoch 23/100\n",
      "59381/59381 [==============================] - 21s 351us/step - loss: 1.4338\n",
      "Epoch 24/100\n",
      "59381/59381 [==============================] - 21s 355us/step - loss: 1.4401\n",
      "Epoch 25/100\n",
      "59381/59381 [==============================] - 21s 355us/step - loss: 1.4364\n",
      "Epoch 26/100\n",
      "59381/59381 [==============================] - 21s 354us/step - loss: 1.4336\n",
      "Epoch 27/100\n",
      "59381/59381 [==============================] - 21s 351us/step - loss: 1.4324\n",
      "Epoch 28/100\n",
      "59381/59381 [==============================] - 21s 355us/step - loss: 1.4339\n",
      "Epoch 29/100\n",
      "59381/59381 [==============================] - 21s 352us/step - loss: 1.4310\n",
      "Epoch 30/100\n",
      "59381/59381 [==============================] - 21s 352us/step - loss: 1.4363\n",
      "Epoch 31/100\n",
      "59381/59381 [==============================] - 21s 352us/step - loss: 1.4305\n",
      "Epoch 32/100\n",
      "59381/59381 [==============================] - 21s 352us/step - loss: 1.4265\n",
      "Epoch 33/100\n",
      "59381/59381 [==============================] - 21s 352us/step - loss: 1.4256\n",
      "Epoch 34/100\n",
      "59381/59381 [==============================] - 21s 353us/step - loss: 1.4299\n",
      "Epoch 35/100\n",
      "59381/59381 [==============================] - 21s 351us/step - loss: 1.4220\n",
      "Epoch 36/100\n",
      "59381/59381 [==============================] - 21s 353us/step - loss: 1.4230\n",
      "Epoch 37/100\n",
      "59381/59381 [==============================] - 21s 351us/step - loss: 1.4272\n",
      "Epoch 38/100\n",
      "59381/59381 [==============================] - 21s 351us/step - loss: 1.4246\n",
      "Epoch 39/100\n",
      "59381/59381 [==============================] - 21s 349us/step - loss: 1.4198\n",
      "Epoch 40/100\n",
      "59381/59381 [==============================] - 21s 353us/step - loss: 1.4215\n",
      "Epoch 41/100\n",
      "59381/59381 [==============================] - 21s 354us/step - loss: 1.4231\n",
      "Epoch 42/100\n",
      "59381/59381 [==============================] - 21s 351us/step - loss: 1.4165\n",
      "Epoch 43/100\n",
      "59381/59381 [==============================] - 21s 354us/step - loss: 1.4229\n",
      "Epoch 44/100\n",
      "59381/59381 [==============================] - 21s 353us/step - loss: 1.4211\n",
      "Epoch 45/100\n",
      "59381/59381 [==============================] - 21s 353us/step - loss: 1.4157\n",
      "Epoch 46/100\n",
      "59381/59381 [==============================] - 21s 351us/step - loss: 1.4169\n",
      "Epoch 47/100\n",
      "59381/59381 [==============================] - 21s 354us/step - loss: 1.4188\n",
      "Epoch 48/100\n",
      "59381/59381 [==============================] - 21s 351us/step - loss: 1.4190\n",
      "Epoch 49/100\n",
      "59381/59381 [==============================] - 21s 352us/step - loss: 1.4222\n",
      "Epoch 50/100\n",
      "59381/59381 [==============================] - 21s 354us/step - loss: 1.4219\n",
      "Epoch 51/100\n",
      "59381/59381 [==============================] - 21s 351us/step - loss: 1.4218\n",
      "Epoch 52/100\n",
      "59381/59381 [==============================] - 21s 351us/step - loss: 1.4148\n",
      "Epoch 53/100\n",
      "59381/59381 [==============================] - 21s 351us/step - loss: 1.4171\n",
      "Epoch 54/100\n",
      "59381/59381 [==============================] - 21s 350us/step - loss: 1.4172\n",
      "Epoch 55/100\n",
      "59381/59381 [==============================] - 21s 351us/step - loss: 1.4209\n",
      "Epoch 56/100\n",
      "59381/59381 [==============================] - 21s 349us/step - loss: 1.4109\n",
      "Epoch 57/100\n",
      "59381/59381 [==============================] - 21s 350us/step - loss: 1.4171\n",
      "Epoch 58/100\n",
      "59381/59381 [==============================] - 21s 350us/step - loss: 1.4184\n",
      "Epoch 59/100\n",
      "59381/59381 [==============================] - 21s 351us/step - loss: 1.4161\n",
      "Epoch 60/100\n",
      "59381/59381 [==============================] - 21s 350us/step - loss: 1.4189\n",
      "Epoch 61/100\n",
      "59381/59381 [==============================] - 21s 349us/step - loss: 1.4160\n",
      "Epoch 62/100\n",
      "59381/59381 [==============================] - 21s 350us/step - loss: 1.4142\n",
      "Epoch 63/100\n",
      "59381/59381 [==============================] - 21s 350us/step - loss: 1.4173\n",
      "Epoch 64/100\n",
      "59381/59381 [==============================] - 21s 351us/step - loss: 1.4125\n",
      "Epoch 65/100\n",
      "59381/59381 [==============================] - 21s 353us/step - loss: 1.4080\n",
      "Epoch 66/100\n",
      "59381/59381 [==============================] - 21s 353us/step - loss: 1.4146\n",
      "Epoch 67/100\n",
      "59381/59381 [==============================] - 21s 351us/step - loss: 1.4095\n",
      "Epoch 68/100\n",
      "59381/59381 [==============================] - 21s 351us/step - loss: 1.4144\n",
      "Epoch 69/100\n",
      "59381/59381 [==============================] - 21s 350us/step - loss: 1.4136\n",
      "Epoch 70/100\n",
      "59381/59381 [==============================] - 21s 350us/step - loss: 1.4170\n",
      "Epoch 71/100\n",
      "59381/59381 [==============================] - 21s 352us/step - loss: 1.4073\n",
      "Epoch 72/100\n",
      "59381/59381 [==============================] - 21s 349us/step - loss: 1.4079\n",
      "Epoch 73/100\n",
      "59381/59381 [==============================] - 21s 351us/step - loss: 1.4084\n",
      "Epoch 74/100\n",
      "59381/59381 [==============================] - 21s 349us/step - loss: 1.4058\n",
      "Epoch 75/100\n",
      "59381/59381 [==============================] - 21s 347us/step - loss: 1.4053\n",
      "Epoch 76/100\n",
      "59381/59381 [==============================] - 21s 348us/step - loss: 1.4082\n",
      "Epoch 77/100\n",
      "59381/59381 [==============================] - 21s 350us/step - loss: 1.4066\n",
      "Epoch 78/100\n",
      "59381/59381 [==============================] - 21s 350us/step - loss: 1.4094\n",
      "Epoch 79/100\n",
      "59381/59381 [==============================] - 21s 352us/step - loss: 1.4120\n",
      "Epoch 80/100\n",
      "59381/59381 [==============================] - 21s 351us/step - loss: 1.4067\n",
      "Epoch 81/100\n",
      "59381/59381 [==============================] - 21s 351us/step - loss: 1.4063\n",
      "Epoch 82/100\n",
      "59381/59381 [==============================] - 21s 350us/step - loss: 1.4115\n",
      "Epoch 83/100\n",
      "59381/59381 [==============================] - 21s 350us/step - loss: 1.4067\n",
      "Epoch 84/100\n",
      "59381/59381 [==============================] - 21s 352us/step - loss: 1.4090\n",
      "Epoch 85/100\n",
      "59381/59381 [==============================] - 21s 350us/step - loss: 1.4085\n",
      "Epoch 86/100\n",
      "59381/59381 [==============================] - 21s 351us/step - loss: 1.4064\n",
      "Epoch 87/100\n",
      "59381/59381 [==============================] - 21s 351us/step - loss: 1.4039\n",
      "Epoch 88/100\n",
      "59381/59381 [==============================] - 21s 354us/step - loss: 1.4040\n",
      "Epoch 89/100\n",
      "59381/59381 [==============================] - 21s 353us/step - loss: 1.4010\n",
      "Epoch 90/100\n",
      "59381/59381 [==============================] - 21s 349us/step - loss: 1.4011\n",
      "Epoch 91/100\n",
      "59381/59381 [==============================] - 21s 350us/step - loss: 1.4057\n",
      "Epoch 92/100\n",
      "59381/59381 [==============================] - 21s 349us/step - loss: 1.4021\n",
      "Epoch 93/100\n",
      "59381/59381 [==============================] - 21s 349us/step - loss: 1.4045\n",
      "Epoch 94/100\n",
      "59381/59381 [==============================] - 21s 350us/step - loss: 1.4075\n",
      "Epoch 95/100\n",
      "59381/59381 [==============================] - 21s 351us/step - loss: 1.3970\n",
      "Epoch 96/100\n",
      "59381/59381 [==============================] - 21s 350us/step - loss: 1.4027\n",
      "Epoch 97/100\n",
      "59381/59381 [==============================] - 21s 350us/step - loss: 1.3958\n",
      "Epoch 98/100\n",
      "59381/59381 [==============================] - 21s 350us/step - loss: 1.4008\n",
      "Epoch 99/100\n",
      "59381/59381 [==============================] - 21s 351us/step - loss: 1.4040\n",
      "Epoch 100/100\n",
      "59381/59381 [==============================] - 21s 352us/step - loss: 1.4043\n"
     ]
    }
   ],
   "source": [
    "# train Nerual network model\n",
    "model_nn = NN(inputShape = train.shape[1], layers = [128, 64, 32], dropout = [0.5, 0.5, 0.7], loss='mae', optimizer = 'adadelta', init = 'glorot_normal', nb_epochs = 100)\n",
    "model_nn.fit(train, labels)"
   ]
  },
  {
   "cell_type": "code",
   "execution_count": 0,
   "metadata": {
    "colab": {
     "base_uri": "https://localhost:8080/",
     "height": 34
    },
    "colab_type": "code",
    "id": "suiHu_2wCyN6",
    "outputId": "c7e32a74-1eb5-4bda-be7c-401dc7be537d"
   },
   "outputs": [
    {
     "name": "stdout",
     "output_type": "stream",
     "text": [
      "19765/19765 [==============================] - 1s 26us/step\n"
     ]
    }
   ],
   "source": [
    "# Making predictions\n",
    "test_preds = model_nn.predict(test)\n",
    "test_preds = np.clip(np.round(test_preds), 1, 8).astype(int)"
   ]
  },
  {
   "cell_type": "code",
   "execution_count": 0,
   "metadata": {
    "colab": {},
    "colab_type": "code",
    "id": "nfBB8fdwCyUO"
   },
   "outputs": [],
   "source": [
    "# Make a submission\n",
    "submission = pd.read_csv('data/sample_submission.csv')\n",
    "submission[\"Response\"] = test_preds\n",
    "submission.to_csv('data/nn_submission.csv', index=False)"
   ]
  },
  {
   "cell_type": "markdown",
   "metadata": {
    "colab_type": "text",
    "id": "Bo3gCvzg4QDn"
   },
   "source": [
    "**The Deep neural network model scored 0.57065 on kaggle.**  "
   ]
  },
  {
   "cell_type": "code",
   "execution_count": 0,
   "metadata": {
    "colab": {},
    "colab_type": "code",
    "id": "tnltmEizeW0H"
   },
   "outputs": [],
   "source": []
  }
 ],
 "metadata": {
  "accelerator": "GPU",
  "colab": {
   "collapsed_sections": [],
   "name": "Capstone.ipynb",
   "provenance": [],
   "version": "0.3.2"
  },
  "kernelspec": {
   "display_name": "Python 3",
   "language": "python",
   "name": "python3"
  },
  "language_info": {
   "codemirror_mode": {
    "name": "ipython",
    "version": 3
   },
   "file_extension": ".py",
   "mimetype": "text/x-python",
   "name": "python",
   "nbconvert_exporter": "python",
   "pygments_lexer": "ipython3",
   "version": "3.6.5"
  }
 },
 "nbformat": 4,
 "nbformat_minor": 1
}
