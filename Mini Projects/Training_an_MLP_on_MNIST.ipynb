{
  "nbformat": 4,
  "nbformat_minor": 0,
  "metadata": {
    "colab": {
      "name": "Training an MLP on MNIST.ipynb",
      "version": "0.3.2",
      "provenance": [],
      "collapsed_sections": []
    },
    "kernelspec": {
      "name": "python3",
      "display_name": "Python 3"
    }
  },
  "cells": [
    {
      "metadata": {
        "id": "MllkjB65deVv",
        "colab_type": "text"
      },
      "cell_type": "markdown",
      "source": [
        "**In this notebook, we train an MLP to classify images from the MNIST database.**\n",
        "\n",
        "\n",
        "---\n",
        "\n"
      ]
    },
    {
      "metadata": {
        "id": "g4vR4_F1dtZt",
        "colab_type": "text"
      },
      "cell_type": "markdown",
      "source": [
        "## 1. Load MNIST Database\n"
      ]
    },
    {
      "metadata": {
        "id": "DIx9KTH6cmi8",
        "colab_type": "code",
        "colab": {
          "base_uri": "https://localhost:8080/",
          "height": 51
        },
        "outputId": "eccaae30-6bd0-4342-8d03-02aa09f459cd"
      },
      "cell_type": "code",
      "source": [
        "from keras.datasets import mnist\n",
        "\n",
        "\n",
        "# use Keras to import pre-shuffled MNIST database\n",
        "(X_train, y_train), (X_test, y_test) = mnist.load_data()\n",
        "\n",
        "print(f'The MNIST database has a training set of {len(X_train)} examples.')\n",
        "print(f'The MNIST database has a test set of {len(X_test)} examples.')"
      ],
      "execution_count": 2,
      "outputs": [
        {
          "output_type": "stream",
          "text": [
            "The MNIST database has a training set of 60000 examples.\n",
            "The MNIST database has a test set of 10000 examples.\n"
          ],
          "name": "stdout"
        }
      ]
    },
    {
      "metadata": {
        "id": "bcEVyaISdzcy",
        "colab_type": "text"
      },
      "cell_type": "markdown",
      "source": [
        "## 2. Visualize the First Six Training Images"
      ]
    },
    {
      "metadata": {
        "id": "BDLQduq9cmrg",
        "colab_type": "code",
        "colab": {
          "base_uri": "https://localhost:8080/",
          "height": 205
        },
        "outputId": "5703c3fe-d963-4e51-ae0d-2d38e0d3cbfb"
      },
      "cell_type": "code",
      "source": [
        "import matplotlib.pyplot as plt\n",
        "%matplotlib inline\n",
        "\n",
        "\n",
        "# plot first six training images\n",
        "fig = plt.figure(figsize=(20,20))\n",
        "for i in range(6):\n",
        "  ax = fig.add_subplot(1,6,i+1, xticks=[], yticks=[])\n",
        "  ax.imshow(X_train[i],cmap='gray')\n",
        "  ax.set_title(str(y_train[i]))\n"
      ],
      "execution_count": 9,
      "outputs": [
        {
          "output_type": "display_data",
          "data": {
            "image/png": "[encoded data removed]",
            "text/plain": [
              "<matplotlib.figure.Figure at 0x7f10a28a8d68>"
            ]
          },
          "metadata": {
            "tags": []
          }
        }
      ]
    },
    {
      "metadata": {
        "id": "9cdPF9eKd4_w",
        "colab_type": "text"
      },
      "cell_type": "markdown",
      "source": [
        "## 3. View an Image in More Detail"
      ]
    },
    {
      "metadata": {
        "id": "wcGVkywHcmzw",
        "colab_type": "code",
        "colab": {
          "base_uri": "https://localhost:8080/",
          "height": 700
        },
        "outputId": "44180dd4-6358-4f24-b97c-bc0c1c9c7606"
      },
      "cell_type": "code",
      "source": [
        "def visualize_input(img,ax):\n",
        "  ax.imshow(img,cmap='gray')\n",
        "  width, height = img.shape\n",
        "  thresh = img.max()/2.5\n",
        "  \n",
        "  for x in range(width):\n",
        "    for y in range(height):\n",
        "      ax.annotate(str(img[x][y]), xy=(y,x), \n",
        "                  horizontalalignment='center',\n",
        "                  verticalalignment='center', \n",
        "                  color = 'white' if img[x][y] < thresh else 'black')\n",
        "  ax.grid(False)\n",
        "\n",
        "\n",
        "\n",
        "\n",
        "fig = plt.figure(figsize = (12,12))\n",
        "ax = fig.add_subplot(111)\n",
        "visualize_input(X_train[1000], ax)\n"
      ],
      "execution_count": 21,
      "outputs": [
        {
          "output_type": "display_data",
          "data": {
            "image/png": "[encoded data removed]",
            "text/plain": [
              "<matplotlib.figure.Figure at 0x7f109dda3ef0>"
            ]
          },
          "metadata": {
            "tags": []
          }
        }
      ]
    },
    {
      "metadata": {
        "id": "m7zlHkAld-es",
        "colab_type": "text"
      },
      "cell_type": "markdown",
      "source": [
        "## 4. Rescale the Images by Dividing Every Pixel in Every Image by 255"
      ]
    },
    {
      "metadata": {
        "id": "_YqUOiQ5d_t3",
        "colab_type": "code",
        "colab": {}
      },
      "cell_type": "code",
      "source": [
        "# rescale [0,255] --> [0,1]\n",
        "X_train = X_train.astype('float32')/255\n",
        "X_test  = X_test.astype('float32')/255"
      ],
      "execution_count": 0,
      "outputs": []
    },
    {
      "metadata": {
        "id": "0j1JLT0bn_Lb",
        "colab_type": "text"
      },
      "cell_type": "markdown",
      "source": [
        "## 5. Encode Categorical Integer Labels Using a One-Hot Scheme"
      ]
    },
    {
      "metadata": {
        "id": "19QfEYW9oAna",
        "colab_type": "code",
        "colab": {}
      },
      "cell_type": "code",
      "source": [
        "from keras.utils import to_categorical\n",
        "\n",
        "# one-hot encode the labels\n",
        "y_train = to_categorical(y_train)\n",
        "y_test = to_categorical(y_test)\n"
      ],
      "execution_count": 0,
      "outputs": []
    },
    {
      "metadata": {
        "id": "B5rYtAuooBZX",
        "colab_type": "text"
      },
      "cell_type": "markdown",
      "source": [
        "## 6. Define the Model Architecture"
      ]
    },
    {
      "metadata": {
        "id": "oCxoVIhNoDw3",
        "colab_type": "code",
        "colab": {
          "base_uri": "https://localhost:8080/",
          "height": 340
        },
        "outputId": "1ca589ce-ddc0-4caf-d129-6e8ecba51843"
      },
      "cell_type": "code",
      "source": [
        "from keras import Sequential\n",
        "from keras.layers import Dense, Dropout, Flatten\n",
        "\n",
        "# define the model\n",
        "model = Sequential()\n",
        "model.add(Flatten(input_shape= X_train.shape[1:]))\n",
        "model.add(Dense(500, activation = 'relu'))\n",
        "model.add(Dropout(0.2))\n",
        "model.add(Dense(200, activation = 'relu'))\n",
        "model.add(Dropout(0.2))\n",
        "model.add(Dense(10, activation = 'sigmoid'))\n",
        "\n",
        "# summarize the model\n",
        "model.summary()"
      ],
      "execution_count": 33,
      "outputs": [
        {
          "output_type": "stream",
          "text": [
            "_________________________________________________________________\n",
            "Layer (type)                 Output Shape              Param #   \n",
            "=================================================================\n",
            "flatten_1 (Flatten)          (None, 784)               0         \n",
            "_________________________________________________________________\n",
            "dense_1 (Dense)              (None, 500)               392500    \n",
            "_________________________________________________________________\n",
            "dropout_1 (Dropout)          (None, 500)               0         \n",
            "_________________________________________________________________\n",
            "dense_2 (Dense)              (None, 200)               100200    \n",
            "_________________________________________________________________\n",
            "dropout_2 (Dropout)          (None, 200)               0         \n",
            "_________________________________________________________________\n",
            "dense_3 (Dense)              (None, 10)                2010      \n",
            "=================================================================\n",
            "Total params: 494,710\n",
            "Trainable params: 494,710\n",
            "Non-trainable params: 0\n",
            "_________________________________________________________________\n"
          ],
          "name": "stdout"
        }
      ]
    },
    {
      "metadata": {
        "id": "5l1BgCOnoE5l",
        "colab_type": "text"
      },
      "cell_type": "markdown",
      "source": [
        "## 7. Compile the Model"
      ]
    },
    {
      "metadata": {
        "id": "zXfKfG-SoJCn",
        "colab_type": "code",
        "colab": {}
      },
      "cell_type": "code",
      "source": [
        "# compile the model\n",
        "model.compile(optimizer= 'RMSprop', loss='categorical_crossentropy', metrics=['accuracy'])"
      ],
      "execution_count": 0,
      "outputs": []
    },
    {
      "metadata": {
        "id": "923mNZHnoLnq",
        "colab_type": "text"
      },
      "cell_type": "markdown",
      "source": [
        "## 8. Calculate the Classification Accuracy on the Test Set (Before Training)"
      ]
    },
    {
      "metadata": {
        "id": "l7IAPcvboMg4",
        "colab_type": "code",
        "colab": {
          "base_uri": "https://localhost:8080/",
          "height": 34
        },
        "outputId": "a5d73d11-b936-4978-feb6-aa30c3dbc064"
      },
      "cell_type": "code",
      "source": [
        "# evaluate test accuracy\n",
        "score  = model.evaluate(X_test, y_test,verbose = 0)\n",
        "accuracy = score[1]*100\n",
        "\n",
        "print(f'Test accuracy: {accuracy}')"
      ],
      "execution_count": 42,
      "outputs": [
        {
          "output_type": "stream",
          "text": [
            "Test accuracy: 10.67\n"
          ],
          "name": "stdout"
        }
      ]
    },
    {
      "metadata": {
        "id": "ez9-brOSoNVw",
        "colab_type": "text"
      },
      "cell_type": "markdown",
      "source": [
        "## 9. Train the Model"
      ]
    },
    {
      "metadata": {
        "id": "4jgn9aJ4oPTQ",
        "colab_type": "code",
        "colab": {
          "base_uri": "https://localhost:8080/",
          "height": 731
        },
        "outputId": "cc70428f-0b12-430a-8286-0c81e66997f9"
      },
      "cell_type": "code",
      "source": [
        "from keras.callbacks import ModelCheckpoint   \n",
        "\n",
        "checkpointer = ModelCheckpoint(filepath='mnist.model.best.hdf5', \n",
        "                               verbose=1, save_best_only=True)\n",
        "# train the model\n",
        "model.fit(X_train, y_train, batch_size=128, epochs=10,\n",
        "          validation_split=0.2,callbacks=[checkpointer],\n",
        "          verbose=1, shuffle=True)"
      ],
      "execution_count": 43,
      "outputs": [
        {
          "output_type": "stream",
          "text": [
            "Train on 48000 samples, validate on 12000 samples\n",
            "Epoch 1/10\n",
            "48000/48000 [==============================] - 7s 145us/step - loss: 0.3501 - acc: 0.8951 - val_loss: 0.1273 - val_acc: 0.9617\n",
            "\n",
            "Epoch 00001: val_loss improved from inf to 0.12729, saving model to mnist.model.best.hdf5\n",
            "Epoch 2/10\n",
            "48000/48000 [==============================] - 7s 142us/step - loss: 0.1351 - acc: 0.9595 - val_loss: 0.1023 - val_acc: 0.9692\n",
            "\n",
            "Epoch 00002: val_loss improved from 0.12729 to 0.10233, saving model to mnist.model.best.hdf5\n",
            "Epoch 3/10\n",
            "48000/48000 [==============================] - 7s 154us/step - loss: 0.0951 - acc: 0.9717 - val_loss: 0.1004 - val_acc: 0.9700\n",
            "\n",
            "Epoch 00003: val_loss improved from 0.10233 to 0.10042, saving model to mnist.model.best.hdf5\n",
            "Epoch 4/10\n",
            "48000/48000 [==============================] - 7s 148us/step - loss: 0.0750 - acc: 0.9774 - val_loss: 0.1059 - val_acc: 0.9719\n",
            "\n",
            "Epoch 00004: val_loss did not improve from 0.10042\n",
            "Epoch 5/10\n",
            "48000/48000 [==============================] - 7s 140us/step - loss: 0.0600 - acc: 0.9822 - val_loss: 0.0826 - val_acc: 0.9772\n",
            "\n",
            "Epoch 00005: val_loss improved from 0.10042 to 0.08256, saving model to mnist.model.best.hdf5\n",
            "Epoch 6/10\n",
            "48000/48000 [==============================] - 7s 137us/step - loss: 0.0525 - acc: 0.9838 - val_loss: 0.0993 - val_acc: 0.9752\n",
            "\n",
            "Epoch 00006: val_loss did not improve from 0.08256\n",
            "Epoch 7/10\n",
            "48000/48000 [==============================] - 7s 138us/step - loss: 0.0442 - acc: 0.9865 - val_loss: 0.0950 - val_acc: 0.9777\n",
            "\n",
            "Epoch 00007: val_loss did not improve from 0.08256\n",
            "Epoch 8/10\n",
            "48000/48000 [==============================] - 7s 136us/step - loss: 0.0397 - acc: 0.9879 - val_loss: 0.0933 - val_acc: 0.9765\n",
            "\n",
            "Epoch 00008: val_loss did not improve from 0.08256\n",
            "Epoch 9/10\n",
            "48000/48000 [==============================] - 6s 134us/step - loss: 0.0334 - acc: 0.9900 - val_loss: 0.0923 - val_acc: 0.9810\n",
            "\n",
            "Epoch 00009: val_loss did not improve from 0.08256\n",
            "Epoch 10/10\n",
            "48000/48000 [==============================] - 7s 136us/step - loss: 0.0298 - acc: 0.9908 - val_loss: 0.0940 - val_acc: 0.9800\n",
            "\n",
            "Epoch 00010: val_loss did not improve from 0.08256\n"
          ],
          "name": "stdout"
        },
        {
          "output_type": "execute_result",
          "data": {
            "text/plain": [
              "<keras.callbacks.History at 0x7f109d4ca518>"
            ]
          },
          "metadata": {
            "tags": []
          },
          "execution_count": 43
        }
      ]
    },
    {
      "metadata": {
        "id": "yrhncDOIoS9Z",
        "colab_type": "text"
      },
      "cell_type": "markdown",
      "source": [
        "## 10. Load the Model with the Best Classification Accuracy on the Validation Set"
      ]
    },
    {
      "metadata": {
        "id": "-ylz4TkYoP0P",
        "colab_type": "code",
        "colab": {}
      },
      "cell_type": "code",
      "source": [
        "# load the weights that yielded the best validation accuracy\n",
        "model.load_weights('mnist.model.best.hdf5')"
      ],
      "execution_count": 0,
      "outputs": []
    },
    {
      "metadata": {
        "id": "PGndnbwMoUVd",
        "colab_type": "text"
      },
      "cell_type": "markdown",
      "source": [
        "## 11. Calculate the Classification Accuracy on the Test Set"
      ]
    },
    {
      "metadata": {
        "id": "tQvCOAmVoWwv",
        "colab_type": "code",
        "colab": {
          "base_uri": "https://localhost:8080/",
          "height": 34
        },
        "outputId": "fe76f6d9-ad26-4497-bc0a-dfe817eb26f4"
      },
      "cell_type": "code",
      "source": [
        "# evaluate test accuracy\n",
        "score  = model.evaluate(X_test, y_test,verbose = 0)\n",
        "accuracy = score[1]*100\n",
        "\n",
        "print(f'Test accuracy: {accuracy:.4}')"
      ],
      "execution_count": 49,
      "outputs": [
        {
          "output_type": "stream",
          "text": [
            "Test accuracy: 98.01\n"
          ],
          "name": "stdout"
        }
      ]
    }
  ]
}